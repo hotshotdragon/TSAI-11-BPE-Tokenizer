{
 "cells": [
  {
   "cell_type": "code",
   "execution_count": 1,
   "metadata": {},
   "outputs": [],
   "source": [
    "with open(\"hindi_data.txt\", 'r', encoding='utf-8') as file:\n",
    "    hindi_text = file.read()"
   ]
  },
  {
   "cell_type": "code",
   "execution_count": 2,
   "metadata": {},
   "outputs": [],
   "source": [
    "tokens_hindi = hindi_text.encode('utf-8')"
   ]
  },
  {
   "cell_type": "code",
   "execution_count": 3,
   "metadata": {},
   "outputs": [],
   "source": [
    "tokens_hindi = list(map(int,tokens_hindi))"
   ]
  },
  {
   "cell_type": "code",
   "execution_count": 4,
   "metadata": {},
   "outputs": [
    {
     "name": "stdout",
     "output_type": "stream",
     "text": [
      "49513 77\n",
      "[49, 46, 32, 224, 164, 182, 224, 164, 172, 224]\n"
     ]
    }
   ],
   "source": [
    "print(len(tokens_hindi), len(set(tokens_hindi)))\n",
    "print(tokens_hindi[:10])"
   ]
  },
  {
   "cell_type": "code",
   "execution_count": 5,
   "metadata": {},
   "outputs": [],
   "source": [
    "def get_stats(ids):\n",
    "    counts = {}\n",
    "    for pair in zip(ids,ids[1:]):\n",
    "        counts[pair] = counts.get(pair,0) + 1\n",
    "    return counts\n",
    "\n",
    "def merge(ids, pair, idx):\n",
    "    newids = []\n",
    "    i = 0\n",
    "    while i < len(ids):\n",
    "        if i < len(ids) - 1 and ids[i] == pair[0] and ids[i+1] == pair[1]:\n",
    "            newids.append(idx)\n",
    "            i+=2\n",
    "        else:\n",
    "            newids.append(ids[i])\n",
    "            i+=1\n",
    "    return newids"
   ]
  },
  {
   "cell_type": "code",
   "execution_count": 6,
   "metadata": {},
   "outputs": [
    {
     "name": "stdout",
     "output_type": "stream",
     "text": [
      "49513\n"
     ]
    }
   ],
   "source": [
    "tokens = hindi_text.encode(\"utf-8\")\n",
    "vocab_size  = 2700\n",
    "num_merges = vocab_size - 256\n",
    "ids = list(tokens)\n",
    "print(len(ids))\n",
    "merges = {}\n",
    "for i in range(num_merges):\n",
    "    stats = get_stats(ids)\n",
    "    pair = max(stats, key = stats.get)\n",
    "    idx = 256 + i\n",
    "    # print(f\"merging {pair} into a new token {idx}\")\n",
    "    ids = merge(ids, pair, idx)\n",
    "    merges[pair] = idx"
   ]
  },
  {
   "cell_type": "code",
   "execution_count": 8,
   "metadata": {},
   "outputs": [
    {
     "name": "stdout",
     "output_type": "stream",
     "text": [
      "Original token length: 49513\n",
      "BPE ids length: 4955\n",
      "Compression Ratio: 9.99X\n"
     ]
    }
   ],
   "source": [
    "print(\"Original token length:\", len(tokens))\n",
    "print(\"BPE ids length:\", len(ids))\n",
    "print(f\"Compression Ratio: {len(tokens)/ len(ids):.2f}X\")"
   ]
  },
  {
   "cell_type": "code",
   "execution_count": 9,
   "metadata": {},
   "outputs": [],
   "source": [
    "vocab = {idx: bytes([idx]) for idx in range(256)}\n",
    "for (p0, p1), idx in merges.items():\n",
    "    vocab[idx] = vocab[p0] + vocab[p1]"
   ]
  },
  {
   "cell_type": "code",
   "execution_count": 10,
   "metadata": {},
   "outputs": [],
   "source": [
    "def decode(ids):\n",
    "    tokens = b\"\".join(vocab[idx] for idx in ids)\n",
    "    text = tokens.decode(\"utf-8\",errors='replace')\n",
    "    return text"
   ]
  },
  {
   "cell_type": "code",
   "execution_count": 11,
   "metadata": {},
   "outputs": [],
   "source": [
    "def encode(text):\n",
    "    \n",
    "    def get_stats(ids):\n",
    "        counts = {}\n",
    "        for pair in zip(ids,ids[1:]):\n",
    "            counts[pair] = counts.get(pair,0) + 1\n",
    "        return counts\n",
    "    \n",
    "    def merge(ids, pair, idx):\n",
    "        newids = []\n",
    "        i = 0\n",
    "        while i < len(ids):\n",
    "            if i < len(ids) - 1 and ids[i] == pair[0] and ids[i+1] == pair[1]:\n",
    "                newids.append(idx)\n",
    "                i+=2\n",
    "            else:\n",
    "                newids.append(ids[i])\n",
    "                i+=1\n",
    "        return newids\n",
    "\n",
    "    tokens = list(text.encode(\"utf-8\"))\n",
    "    while len(tokens) >=2:\n",
    "        stats = get_stats(tokens)\n",
    "        pair = min(stats,key=lambda p: merges.get(p,float(\"inf\")))\n",
    "        if pair not in merges:\n",
    "            break\n",
    "        idx = merges[pair]\n",
    "        tokens = merge(tokens,pair,idx)\n",
    "    return tokens"
   ]
  },
  {
   "cell_type": "code",
   "execution_count": 12,
   "metadata": {},
   "outputs": [
    {
     "name": "stdout",
     "output_type": "stream",
     "text": [
      "[300, 500, 679, 135, 290, 272, 704, 590, 337, 263, 848, 416, 390, 149, 469, 402, 755, 353, 32, 273, 295, 433, 173, 542, 294, 150, 420, 589, 662, 680, 758, 322, 642, 294, 150, 580, 353, 32, 1738, 56, 32, 264]\n"
     ]
    }
   ],
   "source": [
    "t1 = encode(\"साईं इतना दीजिये, जा में कुटुम समाय ।मैं भी भूखा न रहूँ, साधु ना भूखा जाय ॥ 8 ॥\")\n",
    "print(t1)"
   ]
  },
  {
   "cell_type": "code",
   "execution_count": 13,
   "metadata": {},
   "outputs": [
    {
     "name": "stdout",
     "output_type": "stream",
     "text": [
      "साईं इतना दीजिये, जा में कुटुम समाय ।मैं भी भूखा न रहूँ, साधु ना भूखा जाय ॥ 8 ॥\n"
     ]
    }
   ],
   "source": [
    "print(decode(t1))"
   ]
  },
  {
   "cell_type": "code",
   "execution_count": null,
   "metadata": {},
   "outputs": [],
   "source": [
    "# import json\n",
    "# merges_json = {f\"{k[0]},{k[1]}\": v for k, v in merges.items()}\n",
    "# print(merges_json)"
   ]
  },
  {
   "cell_type": "code",
   "execution_count": 39,
   "metadata": {},
   "outputs": [],
   "source": [
    "# with open(\"tsai_hindi_bpe_tokens.json\",'w') as f:\n",
    "#     json.dump(merges_json,f)"
   ]
  },
  {
   "cell_type": "code",
   "execution_count": 40,
   "metadata": {},
   "outputs": [],
   "source": [
    "# import pickle\n",
    "# with open(f\"tsai_hindi_vocab.pkl\", 'wb') as f:\n",
    "#     pickle.dump(vocab, f)"
   ]
  },
  {
   "cell_type": "code",
   "execution_count": 2,
   "metadata": {},
   "outputs": [],
   "source": [
    "# import json\n",
    "# import pickle"
   ]
  },
  {
   "cell_type": "code",
   "execution_count": 3,
   "metadata": {},
   "outputs": [],
   "source": [
    "# with open(\"tsai_hindi_bpe_tokens.json\", 'r') as f:\n",
    "#     merges_json = json.load(f)\n",
    "# merges = {tuple(map(int, k.split(','))): v for k, v in merges_json.items()}"
   ]
  },
  {
   "cell_type": "code",
   "execution_count": 4,
   "metadata": {},
   "outputs": [],
   "source": [
    "# with open(\"tsai_hindi_vocab.pkl\", 'rb') as f:\n",
    "#     vocab = pickle.load(f)"
   ]
  },
  {
   "cell_type": "code",
   "execution_count": null,
   "metadata": {},
   "outputs": [],
   "source": [
    "# t1 = encode(\"साईं इतना दीजिये, जा में कुटुम समाय ।मैं भी भूखा न रहूँ, साधु ना भूखा जाय ॥ 8 ॥\")\n",
    "# print(t1)"
   ]
  },
  {
   "cell_type": "code",
   "execution_count": null,
   "metadata": {},
   "outputs": [],
   "source": [
    "# print(decode(t1))"
   ]
  },
  {
   "cell_type": "code",
   "execution_count": null,
   "metadata": {},
   "outputs": [],
   "source": []
  }
 ],
 "metadata": {
  "kernelspec": {
   "display_name": "mnist_env",
   "language": "python",
   "name": "python3"
  },
  "language_info": {
   "codemirror_mode": {
    "name": "ipython",
    "version": 3
   },
   "file_extension": ".py",
   "mimetype": "text/x-python",
   "name": "python",
   "nbconvert_exporter": "python",
   "pygments_lexer": "ipython3",
   "version": "3.8.20"
  }
 },
 "nbformat": 4,
 "nbformat_minor": 2
}
